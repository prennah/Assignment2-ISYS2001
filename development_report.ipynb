{
  "nbformat": 4,
  "nbformat_minor": 0,
  "metadata": {
    "colab": {
      "provenance": [],
      "authorship_tag": "ABX9TyPFePbBrxlSazdD412ez3zL",
      "include_colab_link": true
    },
    "kernelspec": {
      "name": "python3",
      "display_name": "Python 3"
    },
    "language_info": {
      "name": "python"
    }
  },
  "cells": [
    {
      "cell_type": "markdown",
      "metadata": {
        "id": "view-in-github",
        "colab_type": "text"
      },
      "source": [
        "<a href=\"https://colab.research.google.com/github/prennah/Assignment2-ISYS2001/blob/main/development_report.ipynb\" target=\"_parent\"><img src=\"https://colab.research.google.com/assets/colab-badge.svg\" alt=\"Open In Colab\"/></a>"
      ]
    },
    {
      "cell_type": "markdown",
      "source": [
        "#**Pseudocode of the Python codes**"
      ],
      "metadata": {
        "id": "sj3qsP-15W7h"
      }
    },
    {
      "cell_type": "markdown",
      "source": [
        "##**Downloading the Enron Email Database**"
      ],
      "metadata": {
        "id": "PsnjBWqGqEhV"
      }
    },
    {
      "cell_type": "code",
      "source": [
        "#Use the wget! to download the enron.db file\n",
        "#Setting the output file as enron.db\n",
        "#Using the url of the enron.db as pathway"
      ],
      "metadata": {
        "id": "CeTDFyj601-A"
      },
      "execution_count": null,
      "outputs": []
    },
    {
      "cell_type": "markdown",
      "source": [
        "##**Create Connection between SQLite and Enron**"
      ],
      "metadata": {
        "id": "hLdM_IxiqFmV"
      }
    },
    {
      "cell_type": "code",
      "source": [
        "#Import sqlite3 to connect to the sqlite database\n",
        "#Import pandas to gather the date"
      ],
      "metadata": {
        "id": "eh9uu28l016m"
      },
      "execution_count": 1,
      "outputs": []
    },
    {
      "cell_type": "code",
      "source": [
        "#Create a connection between enron.db and the sqlite3 using the sqlite.connect()\n",
        "#Save the connection as the variable name \"conn\""
      ],
      "metadata": {
        "id": "ssTireUi014p"
      },
      "execution_count": null,
      "outputs": []
    },
    {
      "cell_type": "code",
      "source": [
        "#Create a cursor function to run the SQL queries on the database\n",
        "#Using the \"cur.cursor()\" method, create the cursor\n",
        "#Name the variable as \"cur\" and save it"
      ],
      "metadata": {
        "id": "0rvbE969012d"
      },
      "execution_count": null,
      "outputs": []
    },
    {
      "cell_type": "markdown",
      "source": [
        "**Check Schema of SQLite Database**"
      ],
      "metadata": {
        "id": "VrVF0wVVqGK_"
      }
    },
    {
      "cell_type": "code",
      "source": [
        "#Write an SQL query to gather data from enron database\n",
        "#Next write the codes\n",
        "SELECT name \n",
        "FROM sqlite_master\n",
        "WHERE type = \"table\";\n",
        "#Execute the SQL query using a cursor function \"cur\"\n",
        "#Fetch all the outcomes using the cur.fetchall() method"
      ],
      "metadata": {
        "id": "uyuFOy4O010Q"
      },
      "execution_count": null,
      "outputs": []
    },
    {
      "cell_type": "markdown",
      "source": [
        "**Check Schema of Table Employeelist using PRAGMA**"
      ],
      "metadata": {
        "id": "TamujksPsk-A"
      }
    },
    {
      "cell_type": "code",
      "source": [
        "#Write an SQL query to gather data from the table employeelist provided on the database using PRAGMA\n",
        "#Write the codes\n",
        "PRAGMA table_info(\"employeelist\");\n",
        "#Execute the SQL query using a cursor function \"cur\"\n",
        "#Fetch all the outcomes using the cur.fetchall() method"
      ],
      "metadata": {
        "id": "QbFRbV1B01x-"
      },
      "execution_count": null,
      "outputs": []
    },
    {
      "cell_type": "markdown",
      "source": [
        "**Check Schema of Table Message using PRAGMA**"
      ],
      "metadata": {
        "id": "V8fAnYQqyXJc"
      }
    },
    {
      "cell_type": "code",
      "source": [
        "#Write an SQL query to gather data from the table message provided on the database using PRAGMA\n",
        "#Write the codes\n",
        "PRAGMA table_info(\"message\");\n",
        "#Execute the SQL query using a cursor function \"cur\"\n",
        "#Fetch all the outcomes using the cur.fetchall() method"
      ],
      "metadata": {
        "id": "KxDvKnD601vr"
      },
      "execution_count": null,
      "outputs": []
    },
    {
      "cell_type": "markdown",
      "source": [
        "**Check Schema of Table Recipientinfo using PRAGMA**"
      ],
      "metadata": {
        "id": "XmyuDZeNy2Zb"
      }
    },
    {
      "cell_type": "code",
      "source": [
        "#Write an SQL query to gather data from the table recipientinfo provided on the database using PRAGMA\n",
        "#Write the codes\n",
        "PRAGMA table_info(\"recipientinfo\");\n",
        "#Execute the SQL query using a cursor function \"cur\"\n",
        "#Fetch all the outcomes using the cur.fetchall() method"
      ],
      "metadata": {
        "id": "t_JspdoH01tX"
      },
      "execution_count": null,
      "outputs": []
    },
    {
      "cell_type": "markdown",
      "source": [
        "**Check Schema of Table Referenceinfo using PRAGMA**"
      ],
      "metadata": {
        "id": "8f5cHfN-y4Ri"
      }
    },
    {
      "cell_type": "code",
      "source": [
        "#Write an SQL query to gather data from the table referenceinfo provided on the database using PRAGMA\n",
        "#Write the codes\n",
        "PRAGMA table_info(\"referenceinfo\");\n",
        "#Execute the SQL query using a cursor function \"cur\"\n",
        "#Fetch all the outcomes using the cur.fetchall() method"
      ],
      "metadata": {
        "id": "yaVTKN4E01n5"
      },
      "execution_count": null,
      "outputs": []
    },
    {
      "cell_type": "markdown",
      "source": [
        "##**Email Traffic Overtime**"
      ],
      "metadata": {
        "id": "yOoSbN3xznlN"
      }
    },
    {
      "cell_type": "code",
      "source": [
        "#Define the SQL query\n",
        "SELECT date\n",
        "FROM message\n",
        "#Execute the SQL query and store the results in a Dataframe\n",
        "#Display information about the Dataframe"
      ],
      "metadata": {
        "id": "7qiwYBQw01by"
      },
      "execution_count": null,
      "outputs": []
    },
    {
      "cell_type": "markdown",
      "source": [
        "**Message per day**"
      ],
      "metadata": {
        "id": "e3EWnpb4-gEc"
      }
    },
    {
      "cell_type": "code",
      "source": [
        "#Define the SQL query to count number of emails per day\n",
        "SELECT strftime(\"%Y-%m-%d\", date) AS date,\n",
        "COUNT(*) AS count \n",
        "FROM message\n",
        "GROUP BY date\n",
        "#Execute the SQL query and store the results in a Dataframe\n",
        "#Display the Datframe"
      ],
      "metadata": {
        "id": "0F8b6FPH8tE4"
      },
      "execution_count": null,
      "outputs": []
    },
    {
      "cell_type": "code",
      "source": [
        "#Set the figure size\n",
        "#Plot the line graph\n",
        "#Set the x-axis\n",
        "#Set the y-axis\n",
        "#Set the title\n",
        "#Display the plot"
      ],
      "metadata": {
        "id": "CXqs9XAd9vRk"
      },
      "execution_count": null,
      "outputs": []
    },
    {
      "cell_type": "markdown",
      "source": [
        "**Message per week**"
      ],
      "metadata": {
        "id": "4R1YaTMZ-m_l"
      }
    },
    {
      "cell_type": "code",
      "source": [
        "#Define the SQL query to count number of emails per week\n",
        "SELECT strftime(\"%Y-%m-%w\", date) AS date,\n",
        "COUNT(*) AS count \n",
        "FROM message\n",
        "GROUP BY date\n",
        "#Execute the SQL query and store the results in a Dataframe\n",
        "#Display the Datframe"
      ],
      "metadata": {
        "id": "BVNQKWwA-mXv"
      },
      "execution_count": null,
      "outputs": []
    },
    {
      "cell_type": "code",
      "source": [
        "#Set the figure size\n",
        "#Plot the line graph\n",
        "#Set the x-axis\n",
        "#Set the y-axis\n",
        "#Set the title\n",
        "#Display the plot"
      ],
      "metadata": {
        "id": "gYvqo3q29vOM"
      },
      "execution_count": null,
      "outputs": []
    },
    {
      "cell_type": "markdown",
      "source": [
        "**Message per month**"
      ],
      "metadata": {
        "id": "F2sMJ7SN_bfA"
      }
    },
    {
      "cell_type": "code",
      "source": [
        "#Define the SQL query to count number of emails per month\n",
        "SELECT strftime(\"%Y-%m-%m\", date) AS date,\n",
        "COUNT(*) AS count \n",
        "FROM message\n",
        "GROUP BY date\n",
        "#Execute the SQL query and store the results in a Dataframe\n",
        "#Display the Datframe"
      ],
      "metadata": {
        "id": "AdLeq5gz9vLs"
      },
      "execution_count": null,
      "outputs": []
    },
    {
      "cell_type": "code",
      "source": [
        "#Set the figure size\n",
        "#Plot the line graph\n",
        "#Set the x-axis\n",
        "#Set the y-axis\n",
        "#Set the title\n",
        "#Display the plot"
      ],
      "metadata": {
        "id": "XALchduo9vJa"
      },
      "execution_count": null,
      "outputs": []
    },
    {
      "cell_type": "markdown",
      "source": [
        "##**Top senders and Top Recipients**"
      ],
      "metadata": {
        "id": "_gMu4nVN_sNk"
      }
    },
    {
      "cell_type": "code",
      "source": [
        "#Define the SQL query to count the number of emails sent by each sender"
      ],
      "metadata": {
        "id": "_Q9p73VY9vGn"
      },
      "execution_count": null,
      "outputs": []
    },
    {
      "cell_type": "markdown",
      "source": [
        "**Top Senders**"
      ],
      "metadata": {
        "id": "a6msMWtcCfv0"
      }
    },
    {
      "cell_type": "code",
      "source": [
        "#Execute  the SQL query and store the results in a Dataframe\n",
        "#Display the Dataframe"
      ],
      "metadata": {
        "id": "TvOnNs929vEB"
      },
      "execution_count": null,
      "outputs": []
    },
    {
      "cell_type": "code",
      "source": [
        "#Import the necessary libraries\n",
        "#Set the data for plotting\n",
        "#Create a bar plot using seaborn\n",
        "#Display the plot"
      ],
      "metadata": {
        "id": "wEA7GnEO9u8M"
      },
      "execution_count": null,
      "outputs": []
    },
    {
      "cell_type": "markdown",
      "source": [
        "**Top Recipients**"
      ],
      "metadata": {
        "id": "wel5QLfHCkaY"
      }
    },
    {
      "cell_type": "code",
      "source": [
        "#Import the necessary libraries\n",
        "#Execute the SQL query and store the results in a Dataframe"
      ],
      "metadata": {
        "id": "OMdrPtkqCozx"
      },
      "execution_count": null,
      "outputs": []
    },
    {
      "cell_type": "code",
      "source": [
        "#Create a connection to the SQLite database\n",
        "#Execute the SQL query and store the sresults in a Dataframe\n",
        "#Display the Dataframe"
      ],
      "metadata": {
        "id": "sPA7JPoaCowM"
      },
      "execution_count": null,
      "outputs": []
    },
    {
      "cell_type": "code",
      "source": [
        "#Set the data for plotting\n",
        "#Create a bar plot using seaborn\n",
        "#Display the plot"
      ],
      "metadata": {
        "id": "uMbVin6iDsHq"
      },
      "execution_count": null,
      "outputs": []
    },
    {
      "cell_type": "markdown",
      "source": [
        "##**Email Distribution by Recipient type**"
      ],
      "metadata": {
        "id": "6tKdZX4AEAZo"
      }
    },
    {
      "cell_type": "code",
      "source": [
        "#Define the SQL query to retrieve recipient types and their counts"
      ],
      "metadata": {
        "id": "5_W6Np4OEH8U"
      },
      "execution_count": null,
      "outputs": []
    },
    {
      "cell_type": "code",
      "source": [
        "#Execute the SQL query and store the rseults in a Dataframe\n",
        "#Display the Dataframe"
      ],
      "metadata": {
        "id": "IxkpKQoWEIcG"
      },
      "execution_count": null,
      "outputs": []
    },
    {
      "cell_type": "code",
      "source": [
        "#Create a list of labels for the pie chart\n",
        "#Create a list of values for the pie chart\n",
        "#Plot the pie chart\n",
        "#Set the title of the pie chart\n",
        "#Display the pie chart"
      ],
      "metadata": {
        "id": "Qj0XJIqpFU5c"
      },
      "execution_count": null,
      "outputs": []
    },
    {
      "cell_type": "markdown",
      "source": [
        "#**Testing**"
      ],
      "metadata": {
        "id": "wohhhnzfF7-c"
      }
    },
    {
      "cell_type": "markdown",
      "source": [
        "**Syntax error**"
      ],
      "metadata": {
        "id": "K0wDpAmKwNqX"
      }
    },
    {
      "cell_type": "code",
      "source": [
        "#one syntax error, a % missing in the folllowing code\n",
        "plt.pie(values, labels=labels, autopct= \"%1.1f%\")\n",
        "\n",
        "#to fix it, search what is wrong in the code and solve it\n",
        "plt.pie(values, labels=labels, autopct= \"%1.1f%%\")"
      ],
      "metadata": {
        "id": "imrn0qNowKCy"
      },
      "execution_count": 2,
      "outputs": []
    },
    {
      "cell_type": "markdown",
      "source": [
        "**Name error**"
      ],
      "metadata": {
        "id": "HTAJNqWMwwap"
      }
    },
    {
      "cell_type": "code",
      "source": [
        "#one name error was undefined variable name\n",
        "top_recipient_df = pd.read_sql_query(sql_recipients, conn)\n",
        "\n",
        "#found the solution after carefully analysing the code, the alphabet \"s\" was missing in the variable\n",
        "top_recipients_df = pd.read_sql_query(sql_recipients, conn)"
      ],
      "metadata": {
        "id": "nvn6e7LCwVYR"
      },
      "execution_count": null,
      "outputs": []
    },
    {
      "cell_type": "markdown",
      "source": [
        "**Operation error**"
      ],
      "metadata": {
        "id": "zuzLniNNzqJP"
      }
    },
    {
      "cell_type": "code",
      "source": [
        "#one operation error was an argument was in addition in one of the sql query\n",
        "sql = \"\"\"\n",
        "SELECT name\n",
        "FROM sqlite_master\n",
        "WHERE type = \"table\"\n",
        "GROUP BY table_name;\n",
        "\"\"\"\n",
        "#after analysing the error, it was best to remove the addtion argument which was the GROUP BY argument as the table_name is not recognised in the sqlite_master\n",
        "sql = \"\"\"\n",
        "SELECT name\n",
        "FROM sqlite_master\n",
        "WHERE type = \"table\";\n",
        "\"\"\""
      ],
      "metadata": {
        "id": "mJUJKDgZ0EP_"
      },
      "execution_count": null,
      "outputs": []
    },
    {
      "cell_type": "markdown",
      "source": [
        "**Attribute error**"
      ],
      "metadata": {
        "id": "nE80w50A27KM"
      }
    },
    {
      "cell_type": "code",
      "source": [
        "#one attribute error is that there was no column for \"recipient\" in the Dataframe of \"top_recipients_df\"\n",
        "#we add a colume named \"recipient\" to ensure it is exist in the Dataframe\n",
        "data = top_recipients_df\n",
        "sns.barplot(x=\"count\", y = \"recipient\", data=data)\n",
        "plt.show()\n",
        "#or we can also modify the code according to a column that is already recognised in the Dataframe."
      ],
      "metadata": {
        "id": "GC4HWb3d3Aa8"
      },
      "execution_count": null,
      "outputs": []
    }
  ]
}