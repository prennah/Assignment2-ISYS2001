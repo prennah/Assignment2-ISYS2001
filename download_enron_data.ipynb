{
  "cells": [
    {
      "cell_type": "markdown",
      "metadata": {
        "id": "view-in-github",
        "colab_type": "text"
      },
      "source": [
        "<a href=\"https://colab.research.google.com/github/prennah/Assignment2-ISYS2001/blob/main/download_enron_data.ipynb\" target=\"_parent\"><img src=\"https://colab.research.google.com/assets/colab-badge.svg\" alt=\"Open In Colab\"/></a>"
      ]
    },
    {
      "cell_type": "markdown",
      "source": [
        "# Downloading Enron Email Data\n",
        "\n",
        "\n",
        "\n",
        "### Full/Complete Dataset\n",
        "\n",
        "The following code-cell will download the complete Enron email database to the Colab instance.  It will take about 1-2 mins to download."
      ],
      "metadata": {
        "id": "_6s_eJ_LyO1i"
      }
    },
    {
      "cell_type": "code",
      "execution_count": 3,
      "metadata": {
        "id": "lIYdn1woOS1n",
        "colab": {
          "base_uri": "https://localhost:8080/"
        },
        "outputId": "f845c9dc-2342-4d2d-ccad-50a92ff90c0c"
      },
      "outputs": [
        {
          "output_type": "stream",
          "name": "stdout",
          "text": [
            "--2023-05-24 08:02:35--  https://curtin-my.sharepoint.com/:u:/g/personal/211934g_curtin_edu_au/EaYagsqa2r1Bi5wtHbswGFwBH2kd2uTnz6rlka7GI36GUQ?download=1\n",
            "Resolving curtin-my.sharepoint.com (curtin-my.sharepoint.com)... 52.105.206.39, 2a01:111:f402:f043::39\n",
            "Connecting to curtin-my.sharepoint.com (curtin-my.sharepoint.com)|52.105.206.39|:443... connected.\n",
            "HTTP request sent, awaiting response... 302 Found\n",
            "Location: /personal/211934g_curtin_edu_au/Documents/Teaching/ISYS2001/ISYS2001-Assignment-2-Data/enron_sqlite3.db?ga=1 [following]\n",
            "--2023-05-24 08:02:36--  https://curtin-my.sharepoint.com/personal/211934g_curtin_edu_au/Documents/Teaching/ISYS2001/ISYS2001-Assignment-2-Data/enron_sqlite3.db?ga=1\n",
            "Reusing existing connection to curtin-my.sharepoint.com:443.\n",
            "HTTP request sent, awaiting response... 200 OK\n",
            "Length: 853819392 (814M) [application/octet-stream]\n",
            "Saving to: ‘enron.db’\n",
            "\n",
            "enron.db            100%[===================>] 814.27M  15.2MB/s    in 59s     \n",
            "\n",
            "2023-05-24 08:03:35 (13.7 MB/s) - ‘enron.db’ saved [853819392/853819392]\n",
            "\n"
          ]
        }
      ],
      "source": [
        "!wget -O enron.db https://curtin-my.sharepoint.com/:u:/g/personal/211934g_curtin_edu_au/EaYagsqa2r1Bi5wtHbswGFwBH2kd2uTnz6rlka7GI36GUQ?download=1"
      ]
    },
    {
      "cell_type": "code",
      "source": [
        "import pandas as pd\n",
        "import matplotlib.pyplot as plt\n",
        "import sqlite3"
      ],
      "metadata": {
        "id": "CflQNL7xXvxU"
      },
      "execution_count": 4,
      "outputs": []
    },
    {
      "cell_type": "code",
      "source": [
        "conn = sqlite3.connect(\"/content/enron.db\")"
      ],
      "metadata": {
        "id": "l1OHeCtBXzth"
      },
      "execution_count": 7,
      "outputs": []
    },
    {
      "cell_type": "code",
      "source": [
        "cur = conn.cursor()"
      ],
      "metadata": {
        "id": "F1yOS8qDX-pN"
      },
      "execution_count": 8,
      "outputs": []
    },
    {
      "cell_type": "code",
      "source": [
        "#check schema of database\n",
        "sql = \"\"\"\n",
        "SELECT name\n",
        "FROM sqlite_master\n",
        "WHERE type = \"table\";\n",
        "\"\"\"\n",
        "\n",
        "cur.execute(sql)\n",
        "cur.fetchall()"
      ],
      "metadata": {
        "colab": {
          "base_uri": "https://localhost:8080/"
        },
        "id": "Q_0gClHhYGzA",
        "outputId": "6e776b6a-9c96-45af-fc77-dc8feef7a26d"
      },
      "execution_count": 9,
      "outputs": [
        {
          "output_type": "execute_result",
          "data": {
            "text/plain": [
              "[('employeelist',), ('message',), ('recipientinfo',), ('referenceinfo',)]"
            ]
          },
          "metadata": {},
          "execution_count": 9
        }
      ]
    },
    {
      "cell_type": "code",
      "source": [
        "#check Schema of table employeelist using PRAGMA\n",
        "sql = \"\"\"\n",
        "PRAGMA table_info(\"employeelist\");\n",
        "\"\"\"\n",
        "\n",
        "cur.execute(sql)\n",
        "cur.fetchall()"
      ],
      "metadata": {
        "colab": {
          "base_uri": "https://localhost:8080/"
        },
        "id": "W6bjZjCaYlIW",
        "outputId": "c16d9694-4ccd-43bd-b0ae-4c1e802eb211"
      },
      "execution_count": 10,
      "outputs": [
        {
          "output_type": "execute_result",
          "data": {
            "text/plain": [
              "[(0, 'eid', 'INTEGER', 1, None, 1),\n",
              " (1, 'firstName', 'VARCHAR(31)', 1, \"''\", 0),\n",
              " (2, 'lastName', 'VARCHAR(31)', 1, \"''\", 0),\n",
              " (3, 'Email_id', 'VARCHAR(31)', 1, \"''\", 0),\n",
              " (4, 'Email2', 'VARCHAR(31)', 0, None, 0),\n",
              " (5, 'Email3', 'VARCHAR(31)', 0, None, 0),\n",
              " (6, 'EMail4', 'VARCHAR(31)', 0, None, 0),\n",
              " (7, 'folder', 'VARCHAR(31)', 1, \"''\", 0),\n",
              " (8, 'status', 'VARCHAR(50)', 0, None, 0)]"
            ]
          },
          "metadata": {},
          "execution_count": 10
        }
      ]
    },
    {
      "cell_type": "code",
      "source": [
        "#check Schema of table message using PRAGMA\n",
        "sql = \"\"\"\n",
        "PRAGMA table_info(\"message\");\n",
        "\"\"\"\n",
        "\n",
        "cur.execute(sql)\n",
        "cur.fetchall()"
      ],
      "metadata": {
        "colab": {
          "base_uri": "https://localhost:8080/"
        },
        "id": "_8uJKEMZZDbl",
        "outputId": "372bfaca-0d21-40b5-daf2-c26c77d726bb"
      },
      "execution_count": 11,
      "outputs": [
        {
          "output_type": "execute_result",
          "data": {
            "text/plain": [
              "[(0, 'mid', 'INTEGER', 1, \"'0'\", 1),\n",
              " (1, 'sender', 'VARCHAR(127)', 1, \"''\", 0),\n",
              " (2, 'date', 'DATETIME', 0, None, 0),\n",
              " (3, 'message_id', 'VARCHAR(127)', 0, None, 0),\n",
              " (4, 'subject', 'TEXT', 0, None, 0),\n",
              " (5, 'body', 'TEXT', 0, None, 0),\n",
              " (6, 'folder', 'VARCHAR(127)', 1, \"''\", 0)]"
            ]
          },
          "metadata": {},
          "execution_count": 11
        }
      ]
    },
    {
      "cell_type": "code",
      "source": [
        "#check Schema of table recipientinfo using PRAGMA\n",
        "sql = \"\"\"\n",
        "PRAGMA table_info(\"recipientinfo\");\n",
        "\"\"\"\n",
        "\n",
        "cur.execute(sql)\n",
        "cur.fetchall()"
      ],
      "metadata": {
        "colab": {
          "base_uri": "https://localhost:8080/"
        },
        "id": "lz_HKrI8ZexK",
        "outputId": "6f481573-5743-4015-d316-b8cc11d508a5"
      },
      "execution_count": 12,
      "outputs": [
        {
          "output_type": "execute_result",
          "data": {
            "text/plain": [
              "[(0, 'rid', 'INTEGER', 1, \"'0'\", 1),\n",
              " (1, 'mid', 'INTEGER', 1, \"'0'\", 0),\n",
              " (2, 'rtype', 'TEXT', 0, None, 0),\n",
              " (3, 'rvalue', 'VARCHAR(127)', 0, None, 0),\n",
              " (4, 'dater', 'DATETIME', 0, None, 0)]"
            ]
          },
          "metadata": {},
          "execution_count": 12
        }
      ]
    },
    {
      "cell_type": "code",
      "source": [
        "#check Schema of table referenceinfo using PRAGMA\n",
        "sql = \"\"\"\n",
        "PRAGMA table_info(\"referenceinfo\");\n",
        "\"\"\"\n",
        "\n",
        "cur.execute(sql)\n",
        "cur.fetchall()"
      ],
      "metadata": {
        "colab": {
          "base_uri": "https://localhost:8080/"
        },
        "id": "DJ9ZevvdaOMp",
        "outputId": "a045e114-cd19-4819-f150-cb67d7e3f81d"
      },
      "execution_count": 13,
      "outputs": [
        {
          "output_type": "execute_result",
          "data": {
            "text/plain": [
              "[(0, 'rfid', 'INTEGER', 1, \"'0'\", 1),\n",
              " (1, 'mid', 'INTEGER', 1, \"'0'\", 0),\n",
              " (2, 'reference', 'TEXT', 0, None, 0)]"
            ]
          },
          "metadata": {},
          "execution_count": 13
        }
      ]
    },
    {
      "cell_type": "markdown",
      "source": [
        "#**Email Traffic Overtime**"
      ],
      "metadata": {
        "id": "a7Z__UlVOegS"
      }
    },
    {
      "cell_type": "code",
      "source": [
        "#write sql query\n",
        "sql = \"\"\"\n",
        "SELECT date\n",
        "FROM message\n",
        "\"\"\"\n",
        "\n",
        "#convert to dataform\n",
        "import pandas as pd\n",
        "message_df = pd.read_sql_query(sql, conn)\n",
        "message_df.info()"
      ],
      "metadata": {
        "colab": {
          "base_uri": "https://localhost:8080/"
        },
        "id": "CuCZk-5Jakex",
        "outputId": "37c8aa62-9f93-4c1a-d252-8fe597688f75"
      },
      "execution_count": 14,
      "outputs": [
        {
          "output_type": "stream",
          "name": "stdout",
          "text": [
            "<class 'pandas.core.frame.DataFrame'>\n",
            "RangeIndex: 252759 entries, 0 to 252758\n",
            "Data columns (total 1 columns):\n",
            " #   Column  Non-Null Count   Dtype \n",
            "---  ------  --------------   ----- \n",
            " 0   date    252759 non-null  object\n",
            "dtypes: object(1)\n",
            "memory usage: 1.9+ MB\n"
          ]
        }
      ]
    },
    {
      "cell_type": "code",
      "source": [
        "#sql query to count number of emails per day\n",
        "sql = \"\"\"\n",
        "SELECT strftime(\"%Y-%m-%d\", date) AS date,\n",
        "COUNT(*) AS count \n",
        "FROM message\n",
        "GROUP BY date\n",
        "\"\"\"\n",
        "\n",
        "#convert in dataframe\n",
        "messageperday_df = pd.read_sql_query(sql, conn)\n",
        "messageperday_df"
      ],
      "metadata": {
        "colab": {
          "base_uri": "https://localhost:8080/",
          "height": 424
        },
        "id": "k6V0oZ5ucEdG",
        "outputId": "8c00533f-2c91-47df-894c-c95ac44bb342"
      },
      "execution_count": 15,
      "outputs": [
        {
          "output_type": "execute_result",
          "data": {
            "text/plain": [
              "              date  count\n",
              "0       0001-05-30      2\n",
              "1       0001-06-18      1\n",
              "2       0001-07-24      1\n",
              "3       0001-08-01      1\n",
              "4       0001-08-06      1\n",
              "...            ...    ...\n",
              "194082  2020-12-29      1\n",
              "194083  2043-12-28      1\n",
              "194084  2044-01-02      1\n",
              "194085  2044-01-04      1\n",
              "194086  2044-01-04      1\n",
              "\n",
              "[194087 rows x 2 columns]"
            ],
            "text/html": [
              "\n",
              "  <div id=\"df-5a92efce-a280-455e-b07e-b9ff8c265183\">\n",
              "    <div class=\"colab-df-container\">\n",
              "      <div>\n",
              "<style scoped>\n",
              "    .dataframe tbody tr th:only-of-type {\n",
              "        vertical-align: middle;\n",
              "    }\n",
              "\n",
              "    .dataframe tbody tr th {\n",
              "        vertical-align: top;\n",
              "    }\n",
              "\n",
              "    .dataframe thead th {\n",
              "        text-align: right;\n",
              "    }\n",
              "</style>\n",
              "<table border=\"1\" class=\"dataframe\">\n",
              "  <thead>\n",
              "    <tr style=\"text-align: right;\">\n",
              "      <th></th>\n",
              "      <th>date</th>\n",
              "      <th>count</th>\n",
              "    </tr>\n",
              "  </thead>\n",
              "  <tbody>\n",
              "    <tr>\n",
              "      <th>0</th>\n",
              "      <td>0001-05-30</td>\n",
              "      <td>2</td>\n",
              "    </tr>\n",
              "    <tr>\n",
              "      <th>1</th>\n",
              "      <td>0001-06-18</td>\n",
              "      <td>1</td>\n",
              "    </tr>\n",
              "    <tr>\n",
              "      <th>2</th>\n",
              "      <td>0001-07-24</td>\n",
              "      <td>1</td>\n",
              "    </tr>\n",
              "    <tr>\n",
              "      <th>3</th>\n",
              "      <td>0001-08-01</td>\n",
              "      <td>1</td>\n",
              "    </tr>\n",
              "    <tr>\n",
              "      <th>4</th>\n",
              "      <td>0001-08-06</td>\n",
              "      <td>1</td>\n",
              "    </tr>\n",
              "    <tr>\n",
              "      <th>...</th>\n",
              "      <td>...</td>\n",
              "      <td>...</td>\n",
              "    </tr>\n",
              "    <tr>\n",
              "      <th>194082</th>\n",
              "      <td>2020-12-29</td>\n",
              "      <td>1</td>\n",
              "    </tr>\n",
              "    <tr>\n",
              "      <th>194083</th>\n",
              "      <td>2043-12-28</td>\n",
              "      <td>1</td>\n",
              "    </tr>\n",
              "    <tr>\n",
              "      <th>194084</th>\n",
              "      <td>2044-01-02</td>\n",
              "      <td>1</td>\n",
              "    </tr>\n",
              "    <tr>\n",
              "      <th>194085</th>\n",
              "      <td>2044-01-04</td>\n",
              "      <td>1</td>\n",
              "    </tr>\n",
              "    <tr>\n",
              "      <th>194086</th>\n",
              "      <td>2044-01-04</td>\n",
              "      <td>1</td>\n",
              "    </tr>\n",
              "  </tbody>\n",
              "</table>\n",
              "<p>194087 rows × 2 columns</p>\n",
              "</div>\n",
              "      <button class=\"colab-df-convert\" onclick=\"convertToInteractive('df-5a92efce-a280-455e-b07e-b9ff8c265183')\"\n",
              "              title=\"Convert this dataframe to an interactive table.\"\n",
              "              style=\"display:none;\">\n",
              "        \n",
              "  <svg xmlns=\"http://www.w3.org/2000/svg\" height=\"24px\"viewBox=\"0 0 24 24\"\n",
              "       width=\"24px\">\n",
              "    <path d=\"M0 0h24v24H0V0z\" fill=\"none\"/>\n",
              "    <path d=\"M18.56 5.44l.94 2.06.94-2.06 2.06-.94-2.06-.94-.94-2.06-.94 2.06-2.06.94zm-11 1L8.5 8.5l.94-2.06 2.06-.94-2.06-.94L8.5 2.5l-.94 2.06-2.06.94zm10 10l.94 2.06.94-2.06 2.06-.94-2.06-.94-.94-2.06-.94 2.06-2.06.94z\"/><path d=\"M17.41 7.96l-1.37-1.37c-.4-.4-.92-.59-1.43-.59-.52 0-1.04.2-1.43.59L10.3 9.45l-7.72 7.72c-.78.78-.78 2.05 0 2.83L4 21.41c.39.39.9.59 1.41.59.51 0 1.02-.2 1.41-.59l7.78-7.78 2.81-2.81c.8-.78.8-2.07 0-2.86zM5.41 20L4 18.59l7.72-7.72 1.47 1.35L5.41 20z\"/>\n",
              "  </svg>\n",
              "      </button>\n",
              "      \n",
              "  <style>\n",
              "    .colab-df-container {\n",
              "      display:flex;\n",
              "      flex-wrap:wrap;\n",
              "      gap: 12px;\n",
              "    }\n",
              "\n",
              "    .colab-df-convert {\n",
              "      background-color: #E8F0FE;\n",
              "      border: none;\n",
              "      border-radius: 50%;\n",
              "      cursor: pointer;\n",
              "      display: none;\n",
              "      fill: #1967D2;\n",
              "      height: 32px;\n",
              "      padding: 0 0 0 0;\n",
              "      width: 32px;\n",
              "    }\n",
              "\n",
              "    .colab-df-convert:hover {\n",
              "      background-color: #E2EBFA;\n",
              "      box-shadow: 0px 1px 2px rgba(60, 64, 67, 0.3), 0px 1px 3px 1px rgba(60, 64, 67, 0.15);\n",
              "      fill: #174EA6;\n",
              "    }\n",
              "\n",
              "    [theme=dark] .colab-df-convert {\n",
              "      background-color: #3B4455;\n",
              "      fill: #D2E3FC;\n",
              "    }\n",
              "\n",
              "    [theme=dark] .colab-df-convert:hover {\n",
              "      background-color: #434B5C;\n",
              "      box-shadow: 0px 1px 3px 1px rgba(0, 0, 0, 0.15);\n",
              "      filter: drop-shadow(0px 1px 2px rgba(0, 0, 0, 0.3));\n",
              "      fill: #FFFFFF;\n",
              "    }\n",
              "  </style>\n",
              "\n",
              "      <script>\n",
              "        const buttonEl =\n",
              "          document.querySelector('#df-5a92efce-a280-455e-b07e-b9ff8c265183 button.colab-df-convert');\n",
              "        buttonEl.style.display =\n",
              "          google.colab.kernel.accessAllowed ? 'block' : 'none';\n",
              "\n",
              "        async function convertToInteractive(key) {\n",
              "          const element = document.querySelector('#df-5a92efce-a280-455e-b07e-b9ff8c265183');\n",
              "          const dataTable =\n",
              "            await google.colab.kernel.invokeFunction('convertToInteractive',\n",
              "                                                     [key], {});\n",
              "          if (!dataTable) return;\n",
              "\n",
              "          const docLinkHtml = 'Like what you see? Visit the ' +\n",
              "            '<a target=\"_blank\" href=https://colab.research.google.com/notebooks/data_table.ipynb>data table notebook</a>'\n",
              "            + ' to learn more about interactive tables.';\n",
              "          element.innerHTML = '';\n",
              "          dataTable['output_type'] = 'display_data';\n",
              "          await google.colab.output.renderOutput(dataTable, element);\n",
              "          const docLink = document.createElement('div');\n",
              "          docLink.innerHTML = docLinkHtml;\n",
              "          element.appendChild(docLink);\n",
              "        }\n",
              "      </script>\n",
              "    </div>\n",
              "  </div>\n",
              "  "
            ]
          },
          "metadata": {},
          "execution_count": 15
        }
      ]
    },
    {
      "cell_type": "code",
      "source": [
        "#plot line graph for dataframe\n",
        "\n",
        "#Assume you have a Dataframe named \"messageperday_df\" with \"date\" and \"count\" columns\n",
        "\n",
        "#set the labels and title\n",
        "plt.figure(figsize=(20,5))\n",
        "plt.plot(messageperday_df[\"date\"], messageperday_df[\"count\"])\n",
        "plt.xlabel(\"Day\")\n",
        "plt.ylabel(\"Count\")\n",
        "plt.title(\"Message Count per Day\")\n",
        "\n",
        "#Display the plot\n",
        "plt.show()"
      ],
      "metadata": {
        "colab": {
          "base_uri": "https://localhost:8080/",
          "height": 487
        },
        "id": "nPobSTsmQeXI",
        "outputId": "f77131eb-abf1-49d6-d9c0-53100f7fab66"
      },
      "execution_count": 16,
      "outputs": [
        {
          "output_type": "display_data",
          "data": {
            "text/plain": [
              "<Figure size 2000x500 with 1 Axes>"
            ],
            "image/png": "[encoded data removed]"
          },
          "metadata": {}
        }
      ]
    },
    {
      "cell_type": "markdown",
      "source": [
        "##**Analysis of message per day**"
      ],
      "metadata": {
        "id": "XR8FVD8KSULc"
      }
    },
    {
      "cell_type": "markdown",
      "source": [
        "As you can see on the graph, the message count per day has exceeded more than 1000 meaning that the enron received more than 1000 emails. there are some days where the message count has flunctuated from 0 to 200 per day."
      ],
      "metadata": {
        "id": "2Lu8R4k7SdEB"
      }
    },
    {
      "cell_type": "code",
      "source": [
        "#sql query to count number of emails per week\n",
        "sql = \"\"\"\n",
        "SELECT strftime(\"%Y-%m-%w\", date) AS date,\n",
        "COUNT(*) AS count \n",
        "FROM message\n",
        "GROUP BY date\n",
        "\"\"\"\n",
        "\n",
        "#convert in dataframe\n",
        "messageperweek_df = pd.read_sql_query(sql, conn)\n",
        "messageperweek_df"
      ],
      "metadata": {
        "colab": {
          "base_uri": "https://localhost:8080/",
          "height": 424
        },
        "id": "_MU7U_-7OAIr",
        "outputId": "018b198e-f93a-4816-ac11-c609591db6d6"
      },
      "execution_count": 17,
      "outputs": [
        {
          "output_type": "execute_result",
          "data": {
            "text/plain": [
              "             date  count\n",
              "0       0001-05-3      2\n",
              "1       0001-06-1      1\n",
              "2       0001-07-2      1\n",
              "3       0001-08-3      1\n",
              "4       0001-08-1      1\n",
              "...           ...    ...\n",
              "194082  2020-12-2      1\n",
              "194083  2043-12-1      1\n",
              "194084  2044-01-6      1\n",
              "194085  2044-01-1      1\n",
              "194086  2044-01-1      1\n",
              "\n",
              "[194087 rows x 2 columns]"
            ],
            "text/html": [
              "\n",
              "  <div id=\"df-9c8cbeb3-cbb5-4f78-b306-61446e1dd152\">\n",
              "    <div class=\"colab-df-container\">\n",
              "      <div>\n",
              "<style scoped>\n",
              "    .dataframe tbody tr th:only-of-type {\n",
              "        vertical-align: middle;\n",
              "    }\n",
              "\n",
              "    .dataframe tbody tr th {\n",
              "        vertical-align: top;\n",
              "    }\n",
              "\n",
              "    .dataframe thead th {\n",
              "        text-align: right;\n",
              "    }\n",
              "</style>\n",
              "<table border=\"1\" class=\"dataframe\">\n",
              "  <thead>\n",
              "    <tr style=\"text-align: right;\">\n",
              "      <th></th>\n",
              "      <th>date</th>\n",
              "      <th>count</th>\n",
              "    </tr>\n",
              "  </thead>\n",
              "  <tbody>\n",
              "    <tr>\n",
              "      <th>0</th>\n",
              "      <td>0001-05-3</td>\n",
              "      <td>2</td>\n",
              "    </tr>\n",
              "    <tr>\n",
              "      <th>1</th>\n",
              "      <td>0001-06-1</td>\n",
              "      <td>1</td>\n",
              "    </tr>\n",
              "    <tr>\n",
              "      <th>2</th>\n",
              "      <td>0001-07-2</td>\n",
              "      <td>1</td>\n",
              "    </tr>\n",
              "    <tr>\n",
              "      <th>3</th>\n",
              "      <td>0001-08-3</td>\n",
              "      <td>1</td>\n",
              "    </tr>\n",
              "    <tr>\n",
              "      <th>4</th>\n",
              "      <td>0001-08-1</td>\n",
              "      <td>1</td>\n",
              "    </tr>\n",
              "    <tr>\n",
              "      <th>...</th>\n",
              "      <td>...</td>\n",
              "      <td>...</td>\n",
              "    </tr>\n",
              "    <tr>\n",
              "      <th>194082</th>\n",
              "      <td>2020-12-2</td>\n",
              "      <td>1</td>\n",
              "    </tr>\n",
              "    <tr>\n",
              "      <th>194083</th>\n",
              "      <td>2043-12-1</td>\n",
              "      <td>1</td>\n",
              "    </tr>\n",
              "    <tr>\n",
              "      <th>194084</th>\n",
              "      <td>2044-01-6</td>\n",
              "      <td>1</td>\n",
              "    </tr>\n",
              "    <tr>\n",
              "      <th>194085</th>\n",
              "      <td>2044-01-1</td>\n",
              "      <td>1</td>\n",
              "    </tr>\n",
              "    <tr>\n",
              "      <th>194086</th>\n",
              "      <td>2044-01-1</td>\n",
              "      <td>1</td>\n",
              "    </tr>\n",
              "  </tbody>\n",
              "</table>\n",
              "<p>194087 rows × 2 columns</p>\n",
              "</div>\n",
              "      <button class=\"colab-df-convert\" onclick=\"convertToInteractive('df-9c8cbeb3-cbb5-4f78-b306-61446e1dd152')\"\n",
              "              title=\"Convert this dataframe to an interactive table.\"\n",
              "              style=\"display:none;\">\n",
              "        \n",
              "  <svg xmlns=\"http://www.w3.org/2000/svg\" height=\"24px\"viewBox=\"0 0 24 24\"\n",
              "       width=\"24px\">\n",
              "    <path d=\"M0 0h24v24H0V0z\" fill=\"none\"/>\n",
              "    <path d=\"M18.56 5.44l.94 2.06.94-2.06 2.06-.94-2.06-.94-.94-2.06-.94 2.06-2.06.94zm-11 1L8.5 8.5l.94-2.06 2.06-.94-2.06-.94L8.5 2.5l-.94 2.06-2.06.94zm10 10l.94 2.06.94-2.06 2.06-.94-2.06-.94-.94-2.06-.94 2.06-2.06.94z\"/><path d=\"M17.41 7.96l-1.37-1.37c-.4-.4-.92-.59-1.43-.59-.52 0-1.04.2-1.43.59L10.3 9.45l-7.72 7.72c-.78.78-.78 2.05 0 2.83L4 21.41c.39.39.9.59 1.41.59.51 0 1.02-.2 1.41-.59l7.78-7.78 2.81-2.81c.8-.78.8-2.07 0-2.86zM5.41 20L4 18.59l7.72-7.72 1.47 1.35L5.41 20z\"/>\n",
              "  </svg>\n",
              "      </button>\n",
              "      \n",
              "  <style>\n",
              "    .colab-df-container {\n",
              "      display:flex;\n",
              "      flex-wrap:wrap;\n",
              "      gap: 12px;\n",
              "    }\n",
              "\n",
              "    .colab-df-convert {\n",
              "      background-color: #E8F0FE;\n",
              "      border: none;\n",
              "      border-radius: 50%;\n",
              "      cursor: pointer;\n",
              "      display: none;\n",
              "      fill: #1967D2;\n",
              "      height: 32px;\n",
              "      padding: 0 0 0 0;\n",
              "      width: 32px;\n",
              "    }\n",
              "\n",
              "    .colab-df-convert:hover {\n",
              "      background-color: #E2EBFA;\n",
              "      box-shadow: 0px 1px 2px rgba(60, 64, 67, 0.3), 0px 1px 3px 1px rgba(60, 64, 67, 0.15);\n",
              "      fill: #174EA6;\n",
              "    }\n",
              "\n",
              "    [theme=dark] .colab-df-convert {\n",
              "      background-color: #3B4455;\n",
              "      fill: #D2E3FC;\n",
              "    }\n",
              "\n",
              "    [theme=dark] .colab-df-convert:hover {\n",
              "      background-color: #434B5C;\n",
              "      box-shadow: 0px 1px 3px 1px rgba(0, 0, 0, 0.15);\n",
              "      filter: drop-shadow(0px 1px 2px rgba(0, 0, 0, 0.3));\n",
              "      fill: #FFFFFF;\n",
              "    }\n",
              "  </style>\n",
              "\n",
              "      <script>\n",
              "        const buttonEl =\n",
              "          document.querySelector('#df-9c8cbeb3-cbb5-4f78-b306-61446e1dd152 button.colab-df-convert');\n",
              "        buttonEl.style.display =\n",
              "          google.colab.kernel.accessAllowed ? 'block' : 'none';\n",
              "\n",
              "        async function convertToInteractive(key) {\n",
              "          const element = document.querySelector('#df-9c8cbeb3-cbb5-4f78-b306-61446e1dd152');\n",
              "          const dataTable =\n",
              "            await google.colab.kernel.invokeFunction('convertToInteractive',\n",
              "                                                     [key], {});\n",
              "          if (!dataTable) return;\n",
              "\n",
              "          const docLinkHtml = 'Like what you see? Visit the ' +\n",
              "            '<a target=\"_blank\" href=https://colab.research.google.com/notebooks/data_table.ipynb>data table notebook</a>'\n",
              "            + ' to learn more about interactive tables.';\n",
              "          element.innerHTML = '';\n",
              "          dataTable['output_type'] = 'display_data';\n",
              "          await google.colab.output.renderOutput(dataTable, element);\n",
              "          const docLink = document.createElement('div');\n",
              "          docLink.innerHTML = docLinkHtml;\n",
              "          element.appendChild(docLink);\n",
              "        }\n",
              "      </script>\n",
              "    </div>\n",
              "  </div>\n",
              "  "
            ]
          },
          "metadata": {},
          "execution_count": 17
        }
      ]
    },
    {
      "cell_type": "code",
      "source": [
        "#plot line graph for dataframe\n",
        "\n",
        "\n",
        "#Assume you have a Dataframe named \"messageperweek_df\" with \"date\" and \"count\" columns\n",
        "\n",
        "#set the labels and title\n",
        "plt.figure(figsize=(20,5))\n",
        "plt.plot(messageperweek_df[\"date\"], messageperweek_df[\"count\"])\n",
        "plt.xlabel(\"Week\")\n",
        "plt.ylabel(\"Count\")\n",
        "plt.title(\"Message Count per Week\")\n",
        "\n",
        "#Display the plot\n",
        "plt.show()"
      ],
      "metadata": {
        "colab": {
          "base_uri": "https://localhost:8080/",
          "height": 487
        },
        "id": "UNtOLgFhVqf3",
        "outputId": "006e1831-224e-4906-931c-79dc1f0582eb"
      },
      "execution_count": 18,
      "outputs": [
        {
          "output_type": "display_data",
          "data": {
            "text/plain": [
              "<Figure size 2000x500 with 1 Axes>"
            ],
            "image/png": "[encoded data removed]"
          },
          "metadata": {}
        }
      ]
    },
    {
      "cell_type": "markdown",
      "source": [
        "##**Analysis of message per week**"
      ],
      "metadata": {
        "id": "hxEQKkwkSgDu"
      }
    },
    {
      "cell_type": "markdown",
      "source": [
        "The graph here is the same as the above one. Meaning that message count per week has also exceeded 1000. Few weeks prior to where it exceeded 1000, it reached 600 message count per week."
      ],
      "metadata": {
        "id": "vQutiB23SfzQ"
      }
    },
    {
      "cell_type": "code",
      "source": [
        "#sql query to count number of emails per month\n",
        "sql = \"\"\"\n",
        "SELECT strftime(\"%Y-%m-%m\", date) AS date,\n",
        "COUNT(*) AS count \n",
        "FROM message\n",
        "GROUP BY date\n",
        "\"\"\"\n",
        "\n",
        "#convert in dataframe\n",
        "messagepermonth_df = pd.read_sql_query(sql, conn)\n",
        "messagepermonth_df"
      ],
      "metadata": {
        "colab": {
          "base_uri": "https://localhost:8080/",
          "height": 424
        },
        "id": "SEIN25IdOLhc",
        "outputId": "bcac5fbe-ef25-4858-ce72-b486a241f012"
      },
      "execution_count": 19,
      "outputs": [
        {
          "output_type": "execute_result",
          "data": {
            "text/plain": [
              "              date  count\n",
              "0       0001-05-05      2\n",
              "1       0001-06-06      1\n",
              "2       0001-07-07      1\n",
              "3       0001-08-08      1\n",
              "4       0001-08-08      1\n",
              "...            ...    ...\n",
              "194082  2020-12-12      1\n",
              "194083  2043-12-12      1\n",
              "194084  2044-01-01      1\n",
              "194085  2044-01-01      1\n",
              "194086  2044-01-01      1\n",
              "\n",
              "[194087 rows x 2 columns]"
            ],
            "text/html": [
              "\n",
              "  <div id=\"df-d3bafdff-91a1-446d-bc4c-da391a1894a1\">\n",
              "    <div class=\"colab-df-container\">\n",
              "      <div>\n",
              "<style scoped>\n",
              "    .dataframe tbody tr th:only-of-type {\n",
              "        vertical-align: middle;\n",
              "    }\n",
              "\n",
              "    .dataframe tbody tr th {\n",
              "        vertical-align: top;\n",
              "    }\n",
              "\n",
              "    .dataframe thead th {\n",
              "        text-align: right;\n",
              "    }\n",
              "</style>\n",
              "<table border=\"1\" class=\"dataframe\">\n",
              "  <thead>\n",
              "    <tr style=\"text-align: right;\">\n",
              "      <th></th>\n",
              "      <th>date</th>\n",
              "      <th>count</th>\n",
              "    </tr>\n",
              "  </thead>\n",
              "  <tbody>\n",
              "    <tr>\n",
              "      <th>0</th>\n",
              "      <td>0001-05-05</td>\n",
              "      <td>2</td>\n",
              "    </tr>\n",
              "    <tr>\n",
              "      <th>1</th>\n",
              "      <td>0001-06-06</td>\n",
              "      <td>1</td>\n",
              "    </tr>\n",
              "    <tr>\n",
              "      <th>2</th>\n",
              "      <td>0001-07-07</td>\n",
              "      <td>1</td>\n",
              "    </tr>\n",
              "    <tr>\n",
              "      <th>3</th>\n",
              "      <td>0001-08-08</td>\n",
              "      <td>1</td>\n",
              "    </tr>\n",
              "    <tr>\n",
              "      <th>4</th>\n",
              "      <td>0001-08-08</td>\n",
              "      <td>1</td>\n",
              "    </tr>\n",
              "    <tr>\n",
              "      <th>...</th>\n",
              "      <td>...</td>\n",
              "      <td>...</td>\n",
              "    </tr>\n",
              "    <tr>\n",
              "      <th>194082</th>\n",
              "      <td>2020-12-12</td>\n",
              "      <td>1</td>\n",
              "    </tr>\n",
              "    <tr>\n",
              "      <th>194083</th>\n",
              "      <td>2043-12-12</td>\n",
              "      <td>1</td>\n",
              "    </tr>\n",
              "    <tr>\n",
              "      <th>194084</th>\n",
              "      <td>2044-01-01</td>\n",
              "      <td>1</td>\n",
              "    </tr>\n",
              "    <tr>\n",
              "      <th>194085</th>\n",
              "      <td>2044-01-01</td>\n",
              "      <td>1</td>\n",
              "    </tr>\n",
              "    <tr>\n",
              "      <th>194086</th>\n",
              "      <td>2044-01-01</td>\n",
              "      <td>1</td>\n",
              "    </tr>\n",
              "  </tbody>\n",
              "</table>\n",
              "<p>194087 rows × 2 columns</p>\n",
              "</div>\n",
              "      <button class=\"colab-df-convert\" onclick=\"convertToInteractive('df-d3bafdff-91a1-446d-bc4c-da391a1894a1')\"\n",
              "              title=\"Convert this dataframe to an interactive table.\"\n",
              "              style=\"display:none;\">\n",
              "        \n",
              "  <svg xmlns=\"http://www.w3.org/2000/svg\" height=\"24px\"viewBox=\"0 0 24 24\"\n",
              "       width=\"24px\">\n",
              "    <path d=\"M0 0h24v24H0V0z\" fill=\"none\"/>\n",
              "    <path d=\"M18.56 5.44l.94 2.06.94-2.06 2.06-.94-2.06-.94-.94-2.06-.94 2.06-2.06.94zm-11 1L8.5 8.5l.94-2.06 2.06-.94-2.06-.94L8.5 2.5l-.94 2.06-2.06.94zm10 10l.94 2.06.94-2.06 2.06-.94-2.06-.94-.94-2.06-.94 2.06-2.06.94z\"/><path d=\"M17.41 7.96l-1.37-1.37c-.4-.4-.92-.59-1.43-.59-.52 0-1.04.2-1.43.59L10.3 9.45l-7.72 7.72c-.78.78-.78 2.05 0 2.83L4 21.41c.39.39.9.59 1.41.59.51 0 1.02-.2 1.41-.59l7.78-7.78 2.81-2.81c.8-.78.8-2.07 0-2.86zM5.41 20L4 18.59l7.72-7.72 1.47 1.35L5.41 20z\"/>\n",
              "  </svg>\n",
              "      </button>\n",
              "      \n",
              "  <style>\n",
              "    .colab-df-container {\n",
              "      display:flex;\n",
              "      flex-wrap:wrap;\n",
              "      gap: 12px;\n",
              "    }\n",
              "\n",
              "    .colab-df-convert {\n",
              "      background-color: #E8F0FE;\n",
              "      border: none;\n",
              "      border-radius: 50%;\n",
              "      cursor: pointer;\n",
              "      display: none;\n",
              "      fill: #1967D2;\n",
              "      height: 32px;\n",
              "      padding: 0 0 0 0;\n",
              "      width: 32px;\n",
              "    }\n",
              "\n",
              "    .colab-df-convert:hover {\n",
              "      background-color: #E2EBFA;\n",
              "      box-shadow: 0px 1px 2px rgba(60, 64, 67, 0.3), 0px 1px 3px 1px rgba(60, 64, 67, 0.15);\n",
              "      fill: #174EA6;\n",
              "    }\n",
              "\n",
              "    [theme=dark] .colab-df-convert {\n",
              "      background-color: #3B4455;\n",
              "      fill: #D2E3FC;\n",
              "    }\n",
              "\n",
              "    [theme=dark] .colab-df-convert:hover {\n",
              "      background-color: #434B5C;\n",
              "      box-shadow: 0px 1px 3px 1px rgba(0, 0, 0, 0.15);\n",
              "      filter: drop-shadow(0px 1px 2px rgba(0, 0, 0, 0.3));\n",
              "      fill: #FFFFFF;\n",
              "    }\n",
              "  </style>\n",
              "\n",
              "      <script>\n",
              "        const buttonEl =\n",
              "          document.querySelector('#df-d3bafdff-91a1-446d-bc4c-da391a1894a1 button.colab-df-convert');\n",
              "        buttonEl.style.display =\n",
              "          google.colab.kernel.accessAllowed ? 'block' : 'none';\n",
              "\n",
              "        async function convertToInteractive(key) {\n",
              "          const element = document.querySelector('#df-d3bafdff-91a1-446d-bc4c-da391a1894a1');\n",
              "          const dataTable =\n",
              "            await google.colab.kernel.invokeFunction('convertToInteractive',\n",
              "                                                     [key], {});\n",
              "          if (!dataTable) return;\n",
              "\n",
              "          const docLinkHtml = 'Like what you see? Visit the ' +\n",
              "            '<a target=\"_blank\" href=https://colab.research.google.com/notebooks/data_table.ipynb>data table notebook</a>'\n",
              "            + ' to learn more about interactive tables.';\n",
              "          element.innerHTML = '';\n",
              "          dataTable['output_type'] = 'display_data';\n",
              "          await google.colab.output.renderOutput(dataTable, element);\n",
              "          const docLink = document.createElement('div');\n",
              "          docLink.innerHTML = docLinkHtml;\n",
              "          element.appendChild(docLink);\n",
              "        }\n",
              "      </script>\n",
              "    </div>\n",
              "  </div>\n",
              "  "
            ]
          },
          "metadata": {},
          "execution_count": 19
        }
      ]
    },
    {
      "cell_type": "code",
      "source": [
        "#plot line graph for dataframe\n",
        "\n",
        "\n",
        "#Assume you have a Dataframe named \"messagepermonth_df\" with \"date\" and \"count\" columns\n",
        "\n",
        "#set the labels and title\n",
        "plt.figure(figsize=(20,5))\n",
        "plt.plot(messagepermonth_df[\"date\"], messagepermonth_df[\"count\"])\n",
        "plt.xlabel(\"Month\")\n",
        "plt.ylabel(\"Count\")\n",
        "plt.title(\"Message Count per Month\")\n",
        "\n",
        "#Display the plot\n",
        "plt.show()"
      ],
      "metadata": {
        "colab": {
          "base_uri": "https://localhost:8080/",
          "height": 487
        },
        "id": "VRL7SU-na6Lr",
        "outputId": "c2f6003c-dd2a-47e8-8dea-d60c54c2dbb7"
      },
      "execution_count": 20,
      "outputs": [
        {
          "output_type": "display_data",
          "data": {
            "text/plain": [
              "<Figure size 2000x500 with 1 Axes>"
            ],
            "image/png": "[encoded data removed]"
          },
          "metadata": {}
        }
      ]
    },
    {
      "cell_type": "markdown",
      "source": [
        "##**Analysis of message per month**"
      ],
      "metadata": {
        "id": "vvH532EISlBR"
      }
    },
    {
      "cell_type": "markdown",
      "source": [
        "The graph here shows that the message count is still above 1000. All the graphs shows that they are negatively skewed. "
      ],
      "metadata": {
        "id": "-wq0Saj_Sklf"
      }
    },
    {
      "cell_type": "markdown",
      "source": [
        "#**Top Senders and Recipients**"
      ],
      "metadata": {
        "id": "vbBWHFNMJ6md"
      }
    },
    {
      "cell_type": "code",
      "source": [
        "#sql query to count the number of emails sent by each sender\n",
        "sql_senders = \"\"\"\n",
        "SELECT sender, Count(*) AS count\n",
        "From message\n",
        "GROUP BY sender\n",
        "ORDER BY count \n",
        "DESC\n",
        "LIMIT 10\n",
        "\"\"\"\n",
        "\n"
      ],
      "metadata": {
        "id": "ua9CKjkSKkil"
      },
      "execution_count": 31,
      "outputs": []
    },
    {
      "cell_type": "code",
      "source": [
        "#read data from the database into dataframes\n",
        "top_senders_df = pd.read_sql_query(sql_senders, conn)\n",
        "top_senders_df"
      ],
      "metadata": {
        "colab": {
          "base_uri": "https://localhost:8080/",
          "height": 363
        },
        "id": "NeEbOWVhKRlO",
        "outputId": "79e37691-6731-4470-cd45-c2d3286ea531"
      },
      "execution_count": 33,
      "outputs": [
        {
          "output_type": "execute_result",
          "data": {
            "text/plain": [
              "                          sender  count\n",
              "0        jeff.dasovich@enron.com   6273\n",
              "1           j.kaminski@enron.com   5838\n",
              "2             kay.mann@enron.com   5100\n",
              "3      sara.shackleton@enron.com   4797\n",
              "4           tana.jones@enron.com   4437\n",
              "5        chris.germany@enron.com   3686\n",
              "6           no.address@enron.com   3511\n",
              "7  enron.announcements@enron.com   2838\n",
              "8      matthew.lenhart@enron.com   2784\n",
              "9    debra.perlingiere@enron.com   2549"
            ],
            "text/html": [
              "\n",
              "  <div id=\"df-edd96ac3-6bb7-4629-a90c-26c1b0c96f16\">\n",
              "    <div class=\"colab-df-container\">\n",
              "      <div>\n",
              "<style scoped>\n",
              "    .dataframe tbody tr th:only-of-type {\n",
              "        vertical-align: middle;\n",
              "    }\n",
              "\n",
              "    .dataframe tbody tr th {\n",
              "        vertical-align: top;\n",
              "    }\n",
              "\n",
              "    .dataframe thead th {\n",
              "        text-align: right;\n",
              "    }\n",
              "</style>\n",
              "<table border=\"1\" class=\"dataframe\">\n",
              "  <thead>\n",
              "    <tr style=\"text-align: right;\">\n",
              "      <th></th>\n",
              "      <th>sender</th>\n",
              "      <th>count</th>\n",
              "    </tr>\n",
              "  </thead>\n",
              "  <tbody>\n",
              "    <tr>\n",
              "      <th>0</th>\n",
              "      <td>jeff.dasovich@enron.com</td>\n",
              "      <td>6273</td>\n",
              "    </tr>\n",
              "    <tr>\n",
              "      <th>1</th>\n",
              "      <td>j.kaminski@enron.com</td>\n",
              "      <td>5838</td>\n",
              "    </tr>\n",
              "    <tr>\n",
              "      <th>2</th>\n",
              "      <td>kay.mann@enron.com</td>\n",
              "      <td>5100</td>\n",
              "    </tr>\n",
              "    <tr>\n",
              "      <th>3</th>\n",
              "      <td>sara.shackleton@enron.com</td>\n",
              "      <td>4797</td>\n",
              "    </tr>\n",
              "    <tr>\n",
              "      <th>4</th>\n",
              "      <td>tana.jones@enron.com</td>\n",
              "      <td>4437</td>\n",
              "    </tr>\n",
              "    <tr>\n",
              "      <th>5</th>\n",
              "      <td>chris.germany@enron.com</td>\n",
              "      <td>3686</td>\n",
              "    </tr>\n",
              "    <tr>\n",
              "      <th>6</th>\n",
              "      <td>no.address@enron.com</td>\n",
              "      <td>3511</td>\n",
              "    </tr>\n",
              "    <tr>\n",
              "      <th>7</th>\n",
              "      <td>enron.announcements@enron.com</td>\n",
              "      <td>2838</td>\n",
              "    </tr>\n",
              "    <tr>\n",
              "      <th>8</th>\n",
              "      <td>matthew.lenhart@enron.com</td>\n",
              "      <td>2784</td>\n",
              "    </tr>\n",
              "    <tr>\n",
              "      <th>9</th>\n",
              "      <td>debra.perlingiere@enron.com</td>\n",
              "      <td>2549</td>\n",
              "    </tr>\n",
              "  </tbody>\n",
              "</table>\n",
              "</div>\n",
              "      <button class=\"colab-df-convert\" onclick=\"convertToInteractive('df-edd96ac3-6bb7-4629-a90c-26c1b0c96f16')\"\n",
              "              title=\"Convert this dataframe to an interactive table.\"\n",
              "              style=\"display:none;\">\n",
              "        \n",
              "  <svg xmlns=\"http://www.w3.org/2000/svg\" height=\"24px\"viewBox=\"0 0 24 24\"\n",
              "       width=\"24px\">\n",
              "    <path d=\"M0 0h24v24H0V0z\" fill=\"none\"/>\n",
              "    <path d=\"M18.56 5.44l.94 2.06.94-2.06 2.06-.94-2.06-.94-.94-2.06-.94 2.06-2.06.94zm-11 1L8.5 8.5l.94-2.06 2.06-.94-2.06-.94L8.5 2.5l-.94 2.06-2.06.94zm10 10l.94 2.06.94-2.06 2.06-.94-2.06-.94-.94-2.06-.94 2.06-2.06.94z\"/><path d=\"M17.41 7.96l-1.37-1.37c-.4-.4-.92-.59-1.43-.59-.52 0-1.04.2-1.43.59L10.3 9.45l-7.72 7.72c-.78.78-.78 2.05 0 2.83L4 21.41c.39.39.9.59 1.41.59.51 0 1.02-.2 1.41-.59l7.78-7.78 2.81-2.81c.8-.78.8-2.07 0-2.86zM5.41 20L4 18.59l7.72-7.72 1.47 1.35L5.41 20z\"/>\n",
              "  </svg>\n",
              "      </button>\n",
              "      \n",
              "  <style>\n",
              "    .colab-df-container {\n",
              "      display:flex;\n",
              "      flex-wrap:wrap;\n",
              "      gap: 12px;\n",
              "    }\n",
              "\n",
              "    .colab-df-convert {\n",
              "      background-color: #E8F0FE;\n",
              "      border: none;\n",
              "      border-radius: 50%;\n",
              "      cursor: pointer;\n",
              "      display: none;\n",
              "      fill: #1967D2;\n",
              "      height: 32px;\n",
              "      padding: 0 0 0 0;\n",
              "      width: 32px;\n",
              "    }\n",
              "\n",
              "    .colab-df-convert:hover {\n",
              "      background-color: #E2EBFA;\n",
              "      box-shadow: 0px 1px 2px rgba(60, 64, 67, 0.3), 0px 1px 3px 1px rgba(60, 64, 67, 0.15);\n",
              "      fill: #174EA6;\n",
              "    }\n",
              "\n",
              "    [theme=dark] .colab-df-convert {\n",
              "      background-color: #3B4455;\n",
              "      fill: #D2E3FC;\n",
              "    }\n",
              "\n",
              "    [theme=dark] .colab-df-convert:hover {\n",
              "      background-color: #434B5C;\n",
              "      box-shadow: 0px 1px 3px 1px rgba(0, 0, 0, 0.15);\n",
              "      filter: drop-shadow(0px 1px 2px rgba(0, 0, 0, 0.3));\n",
              "      fill: #FFFFFF;\n",
              "    }\n",
              "  </style>\n",
              "\n",
              "      <script>\n",
              "        const buttonEl =\n",
              "          document.querySelector('#df-edd96ac3-6bb7-4629-a90c-26c1b0c96f16 button.colab-df-convert');\n",
              "        buttonEl.style.display =\n",
              "          google.colab.kernel.accessAllowed ? 'block' : 'none';\n",
              "\n",
              "        async function convertToInteractive(key) {\n",
              "          const element = document.querySelector('#df-edd96ac3-6bb7-4629-a90c-26c1b0c96f16');\n",
              "          const dataTable =\n",
              "            await google.colab.kernel.invokeFunction('convertToInteractive',\n",
              "                                                     [key], {});\n",
              "          if (!dataTable) return;\n",
              "\n",
              "          const docLinkHtml = 'Like what you see? Visit the ' +\n",
              "            '<a target=\"_blank\" href=https://colab.research.google.com/notebooks/data_table.ipynb>data table notebook</a>'\n",
              "            + ' to learn more about interactive tables.';\n",
              "          element.innerHTML = '';\n",
              "          dataTable['output_type'] = 'display_data';\n",
              "          await google.colab.output.renderOutput(dataTable, element);\n",
              "          const docLink = document.createElement('div');\n",
              "          docLink.innerHTML = docLinkHtml;\n",
              "          element.appendChild(docLink);\n",
              "        }\n",
              "      </script>\n",
              "    </div>\n",
              "  </div>\n",
              "  "
            ]
          },
          "metadata": {},
          "execution_count": 33
        }
      ]
    },
    {
      "cell_type": "code",
      "source": [
        "import matplotlib.pyplot as plt\n",
        "import seaborn as sns\n",
        "data = top_senders_df\n",
        "sns.barplot(x=\"count\", y = \"sender\", data=data)\n",
        "plt.show()"
      ],
      "metadata": {
        "colab": {
          "base_uri": "https://localhost:8080/",
          "height": 449
        },
        "id": "64WInTSRKZaN",
        "outputId": "bad263ca-181f-452f-f605-f17a890b0e82"
      },
      "execution_count": 34,
      "outputs": [
        {
          "output_type": "display_data",
          "data": {
            "text/plain": [
              "<Figure size 640x480 with 1 Axes>"
            ],
            "image/png": "[encoded data removed]"
          },
          "metadata": {}
        }
      ]
    },
    {
      "cell_type": "markdown",
      "source": [
        "##**Analysis of Top Senders' Barchart**"
      ],
      "metadata": {
        "id": "UaFE6hdq1xyN"
      }
    },
    {
      "cell_type": "markdown",
      "source": [
        "The barchart shows that jeff.dasovich@enron.com has sent more than 6000 emails in the Enron company. The sender that sent the least number of emails is debra.perlingiere@enron.com and the number varies between 2000 and 3000 respectively."
      ],
      "metadata": {
        "id": "SFxb3rMD1xkY"
      }
    },
    {
      "cell_type": "code",
      "source": [
        "import pandas as pd\n",
        "import sqlite3\n",
        "import matplotlib.pyplot as plt\n",
        "#sql query to count the number of emails received by each recipient\n",
        "sql_recipients =\"\"\"\n",
        "SELECT rvalue AS recipient, COUNT(*) AS count\n",
        "FROM recipientinfo \n",
        "\n",
        "GROUP BY recipient \n",
        "ORDER BY count DESC\n",
        "LIMIT 15\n",
        "\"\"\""
      ],
      "metadata": {
        "id": "lgEI7-DdP3Tx"
      },
      "execution_count": 45,
      "outputs": []
    },
    {
      "cell_type": "code",
      "source": [
        "conn = sqlite3.connect(\"enron.db\")\n",
        "#read data from the database into dataframes\n",
        "top_recipients_df = pd.read_sql_query(sql_recipients, conn)\n",
        "top_recipients_df"
      ],
      "metadata": {
        "colab": {
          "base_uri": "https://localhost:8080/",
          "height": 520
        },
        "id": "W23oSsVmLbOm",
        "outputId": "cbe6e9cc-4769-4b66-f533-86f34d886846"
      },
      "execution_count": 47,
      "outputs": [
        {
          "output_type": "execute_result",
          "data": {
            "text/plain": [
              "                    recipient  count\n",
              "0        no.address@enron.com  19198\n",
              "1     jeff.dasovich@enron.com  11137\n",
              "2   richard.shapiro@enron.com  11015\n",
              "3     steven.j.kean@enron.com  10873\n",
              "4   james.d.steffes@enron.com  10615\n",
              "5        tana.jones@enron.com   9781\n",
              "6   sara.shackleton@enron.com   9633\n",
              "7     mark.e.taylor@enron.com   9090\n",
              "8    louise.kitchen@enron.com   7603\n",
              "9        pete.davis@enron.com   7509\n",
              "10       j.kaminski@enron.com   6539\n",
              "11       susan.mara@enron.com   5910\n",
              "12      mark.guzman@enron.com   5907\n",
              "13    john.lavorato@enron.com   5809\n",
              "14     gerald.nemec@enron.com   5661"
            ],
            "text/html": [
              "\n",
              "  <div id=\"df-00fd396a-4414-4cd3-a84a-c54100cde569\">\n",
              "    <div class=\"colab-df-container\">\n",
              "      <div>\n",
              "<style scoped>\n",
              "    .dataframe tbody tr th:only-of-type {\n",
              "        vertical-align: middle;\n",
              "    }\n",
              "\n",
              "    .dataframe tbody tr th {\n",
              "        vertical-align: top;\n",
              "    }\n",
              "\n",
              "    .dataframe thead th {\n",
              "        text-align: right;\n",
              "    }\n",
              "</style>\n",
              "<table border=\"1\" class=\"dataframe\">\n",
              "  <thead>\n",
              "    <tr style=\"text-align: right;\">\n",
              "      <th></th>\n",
              "      <th>recipient</th>\n",
              "      <th>count</th>\n",
              "    </tr>\n",
              "  </thead>\n",
              "  <tbody>\n",
              "    <tr>\n",
              "      <th>0</th>\n",
              "      <td>no.address@enron.com</td>\n",
              "      <td>19198</td>\n",
              "    </tr>\n",
              "    <tr>\n",
              "      <th>1</th>\n",
              "      <td>jeff.dasovich@enron.com</td>\n",
              "      <td>11137</td>\n",
              "    </tr>\n",
              "    <tr>\n",
              "      <th>2</th>\n",
              "      <td>richard.shapiro@enron.com</td>\n",
              "      <td>11015</td>\n",
              "    </tr>\n",
              "    <tr>\n",
              "      <th>3</th>\n",
              "      <td>steven.j.kean@enron.com</td>\n",
              "      <td>10873</td>\n",
              "    </tr>\n",
              "    <tr>\n",
              "      <th>4</th>\n",
              "      <td>james.d.steffes@enron.com</td>\n",
              "      <td>10615</td>\n",
              "    </tr>\n",
              "    <tr>\n",
              "      <th>5</th>\n",
              "      <td>tana.jones@enron.com</td>\n",
              "      <td>9781</td>\n",
              "    </tr>\n",
              "    <tr>\n",
              "      <th>6</th>\n",
              "      <td>sara.shackleton@enron.com</td>\n",
              "      <td>9633</td>\n",
              "    </tr>\n",
              "    <tr>\n",
              "      <th>7</th>\n",
              "      <td>mark.e.taylor@enron.com</td>\n",
              "      <td>9090</td>\n",
              "    </tr>\n",
              "    <tr>\n",
              "      <th>8</th>\n",
              "      <td>louise.kitchen@enron.com</td>\n",
              "      <td>7603</td>\n",
              "    </tr>\n",
              "    <tr>\n",
              "      <th>9</th>\n",
              "      <td>pete.davis@enron.com</td>\n",
              "      <td>7509</td>\n",
              "    </tr>\n",
              "    <tr>\n",
              "      <th>10</th>\n",
              "      <td>j.kaminski@enron.com</td>\n",
              "      <td>6539</td>\n",
              "    </tr>\n",
              "    <tr>\n",
              "      <th>11</th>\n",
              "      <td>susan.mara@enron.com</td>\n",
              "      <td>5910</td>\n",
              "    </tr>\n",
              "    <tr>\n",
              "      <th>12</th>\n",
              "      <td>mark.guzman@enron.com</td>\n",
              "      <td>5907</td>\n",
              "    </tr>\n",
              "    <tr>\n",
              "      <th>13</th>\n",
              "      <td>john.lavorato@enron.com</td>\n",
              "      <td>5809</td>\n",
              "    </tr>\n",
              "    <tr>\n",
              "      <th>14</th>\n",
              "      <td>gerald.nemec@enron.com</td>\n",
              "      <td>5661</td>\n",
              "    </tr>\n",
              "  </tbody>\n",
              "</table>\n",
              "</div>\n",
              "      <button class=\"colab-df-convert\" onclick=\"convertToInteractive('df-00fd396a-4414-4cd3-a84a-c54100cde569')\"\n",
              "              title=\"Convert this dataframe to an interactive table.\"\n",
              "              style=\"display:none;\">\n",
              "        \n",
              "  <svg xmlns=\"http://www.w3.org/2000/svg\" height=\"24px\"viewBox=\"0 0 24 24\"\n",
              "       width=\"24px\">\n",
              "    <path d=\"M0 0h24v24H0V0z\" fill=\"none\"/>\n",
              "    <path d=\"M18.56 5.44l.94 2.06.94-2.06 2.06-.94-2.06-.94-.94-2.06-.94 2.06-2.06.94zm-11 1L8.5 8.5l.94-2.06 2.06-.94-2.06-.94L8.5 2.5l-.94 2.06-2.06.94zm10 10l.94 2.06.94-2.06 2.06-.94-2.06-.94-.94-2.06-.94 2.06-2.06.94z\"/><path d=\"M17.41 7.96l-1.37-1.37c-.4-.4-.92-.59-1.43-.59-.52 0-1.04.2-1.43.59L10.3 9.45l-7.72 7.72c-.78.78-.78 2.05 0 2.83L4 21.41c.39.39.9.59 1.41.59.51 0 1.02-.2 1.41-.59l7.78-7.78 2.81-2.81c.8-.78.8-2.07 0-2.86zM5.41 20L4 18.59l7.72-7.72 1.47 1.35L5.41 20z\"/>\n",
              "  </svg>\n",
              "      </button>\n",
              "      \n",
              "  <style>\n",
              "    .colab-df-container {\n",
              "      display:flex;\n",
              "      flex-wrap:wrap;\n",
              "      gap: 12px;\n",
              "    }\n",
              "\n",
              "    .colab-df-convert {\n",
              "      background-color: #E8F0FE;\n",
              "      border: none;\n",
              "      border-radius: 50%;\n",
              "      cursor: pointer;\n",
              "      display: none;\n",
              "      fill: #1967D2;\n",
              "      height: 32px;\n",
              "      padding: 0 0 0 0;\n",
              "      width: 32px;\n",
              "    }\n",
              "\n",
              "    .colab-df-convert:hover {\n",
              "      background-color: #E2EBFA;\n",
              "      box-shadow: 0px 1px 2px rgba(60, 64, 67, 0.3), 0px 1px 3px 1px rgba(60, 64, 67, 0.15);\n",
              "      fill: #174EA6;\n",
              "    }\n",
              "\n",
              "    [theme=dark] .colab-df-convert {\n",
              "      background-color: #3B4455;\n",
              "      fill: #D2E3FC;\n",
              "    }\n",
              "\n",
              "    [theme=dark] .colab-df-convert:hover {\n",
              "      background-color: #434B5C;\n",
              "      box-shadow: 0px 1px 3px 1px rgba(0, 0, 0, 0.15);\n",
              "      filter: drop-shadow(0px 1px 2px rgba(0, 0, 0, 0.3));\n",
              "      fill: #FFFFFF;\n",
              "    }\n",
              "  </style>\n",
              "\n",
              "      <script>\n",
              "        const buttonEl =\n",
              "          document.querySelector('#df-00fd396a-4414-4cd3-a84a-c54100cde569 button.colab-df-convert');\n",
              "        buttonEl.style.display =\n",
              "          google.colab.kernel.accessAllowed ? 'block' : 'none';\n",
              "\n",
              "        async function convertToInteractive(key) {\n",
              "          const element = document.querySelector('#df-00fd396a-4414-4cd3-a84a-c54100cde569');\n",
              "          const dataTable =\n",
              "            await google.colab.kernel.invokeFunction('convertToInteractive',\n",
              "                                                     [key], {});\n",
              "          if (!dataTable) return;\n",
              "\n",
              "          const docLinkHtml = 'Like what you see? Visit the ' +\n",
              "            '<a target=\"_blank\" href=https://colab.research.google.com/notebooks/data_table.ipynb>data table notebook</a>'\n",
              "            + ' to learn more about interactive tables.';\n",
              "          element.innerHTML = '';\n",
              "          dataTable['output_type'] = 'display_data';\n",
              "          await google.colab.output.renderOutput(dataTable, element);\n",
              "          const docLink = document.createElement('div');\n",
              "          docLink.innerHTML = docLinkHtml;\n",
              "          element.appendChild(docLink);\n",
              "        }\n",
              "      </script>\n",
              "    </div>\n",
              "  </div>\n",
              "  "
            ]
          },
          "metadata": {},
          "execution_count": 47
        }
      ]
    },
    {
      "cell_type": "code",
      "source": [
        "data = top_recipients_df\n",
        "sns.barplot(x=\"count\", y = \"recipient\", data=data)\n",
        "plt.show()"
      ],
      "metadata": {
        "colab": {
          "base_uri": "https://localhost:8080/",
          "height": 449
        },
        "id": "j-yD33FLMd8Y",
        "outputId": "63c49e62-c82a-4def-c25e-2c5b3e58a52f"
      },
      "execution_count": 48,
      "outputs": [
        {
          "output_type": "display_data",
          "data": {
            "text/plain": [
              "<Figure size 640x480 with 1 Axes>"
            ],
            "image/png": "[encoded data removed]"
          },
          "metadata": {}
        }
      ]
    },
    {
      "cell_type": "markdown",
      "source": [
        "##**Analysis of Top Recipients' Barchart**"
      ],
      "metadata": {
        "id": "J70IMnso2ojA"
      }
    },
    {
      "cell_type": "markdown",
      "source": [
        "The highest in the barchart which is no.address@enron.com has received more than 17500 emails and the number varies between 17500 and 20000. The least number of emails received varies between 5000 and 7500 and was received by gerald.nemec@enron.com."
      ],
      "metadata": {
        "id": "HJxNzE5U2ofv"
      }
    },
    {
      "cell_type": "markdown",
      "source": [
        "#**Email Distribution by Recipient Type**\n",
        "\n"
      ],
      "metadata": {
        "id": "PXmKlIbSMoln"
      }
    },
    {
      "cell_type": "code",
      "source": [
        "# sql query to retrieve recipient types and their counts\n",
        "sql_recipient_types = \"\"\"\n",
        "SELECT rtype, COUNT(rtype) AS count\n",
        "FROM recipientinfo\n",
        "GROUP BY rtype\n",
        "ORDER BY rtype\n",
        "\"\"\"\n"
      ],
      "metadata": {
        "id": "ajRz41ZIMz9Y"
      },
      "execution_count": 57,
      "outputs": []
    },
    {
      "cell_type": "code",
      "source": [
        "#read data from the database into a dataframe\n",
        "recipient_df = pd.read_sql_query(sql_recipient_types, conn)\n",
        "recipient_df"
      ],
      "metadata": {
        "colab": {
          "base_uri": "https://localhost:8080/",
          "height": 143
        },
        "id": "Ynp9_3FEQLVn",
        "outputId": "967c391a-53c1-47e8-9953-8c90ee0a5714"
      },
      "execution_count": 58,
      "outputs": [
        {
          "output_type": "execute_result",
          "data": {
            "text/plain": [
              "  rtype    count\n",
              "0   BCC   253713\n",
              "1    CC   253735\n",
              "2    TO  1556994"
            ],
            "text/html": [
              "\n",
              "  <div id=\"df-e7cf97d9-4868-4c6f-abdf-24ab4bd6b860\">\n",
              "    <div class=\"colab-df-container\">\n",
              "      <div>\n",
              "<style scoped>\n",
              "    .dataframe tbody tr th:only-of-type {\n",
              "        vertical-align: middle;\n",
              "    }\n",
              "\n",
              "    .dataframe tbody tr th {\n",
              "        vertical-align: top;\n",
              "    }\n",
              "\n",
              "    .dataframe thead th {\n",
              "        text-align: right;\n",
              "    }\n",
              "</style>\n",
              "<table border=\"1\" class=\"dataframe\">\n",
              "  <thead>\n",
              "    <tr style=\"text-align: right;\">\n",
              "      <th></th>\n",
              "      <th>rtype</th>\n",
              "      <th>count</th>\n",
              "    </tr>\n",
              "  </thead>\n",
              "  <tbody>\n",
              "    <tr>\n",
              "      <th>0</th>\n",
              "      <td>BCC</td>\n",
              "      <td>253713</td>\n",
              "    </tr>\n",
              "    <tr>\n",
              "      <th>1</th>\n",
              "      <td>CC</td>\n",
              "      <td>253735</td>\n",
              "    </tr>\n",
              "    <tr>\n",
              "      <th>2</th>\n",
              "      <td>TO</td>\n",
              "      <td>1556994</td>\n",
              "    </tr>\n",
              "  </tbody>\n",
              "</table>\n",
              "</div>\n",
              "      <button class=\"colab-df-convert\" onclick=\"convertToInteractive('df-e7cf97d9-4868-4c6f-abdf-24ab4bd6b860')\"\n",
              "              title=\"Convert this dataframe to an interactive table.\"\n",
              "              style=\"display:none;\">\n",
              "        \n",
              "  <svg xmlns=\"http://www.w3.org/2000/svg\" height=\"24px\"viewBox=\"0 0 24 24\"\n",
              "       width=\"24px\">\n",
              "    <path d=\"M0 0h24v24H0V0z\" fill=\"none\"/>\n",
              "    <path d=\"M18.56 5.44l.94 2.06.94-2.06 2.06-.94-2.06-.94-.94-2.06-.94 2.06-2.06.94zm-11 1L8.5 8.5l.94-2.06 2.06-.94-2.06-.94L8.5 2.5l-.94 2.06-2.06.94zm10 10l.94 2.06.94-2.06 2.06-.94-2.06-.94-.94-2.06-.94 2.06-2.06.94z\"/><path d=\"M17.41 7.96l-1.37-1.37c-.4-.4-.92-.59-1.43-.59-.52 0-1.04.2-1.43.59L10.3 9.45l-7.72 7.72c-.78.78-.78 2.05 0 2.83L4 21.41c.39.39.9.59 1.41.59.51 0 1.02-.2 1.41-.59l7.78-7.78 2.81-2.81c.8-.78.8-2.07 0-2.86zM5.41 20L4 18.59l7.72-7.72 1.47 1.35L5.41 20z\"/>\n",
              "  </svg>\n",
              "      </button>\n",
              "      \n",
              "  <style>\n",
              "    .colab-df-container {\n",
              "      display:flex;\n",
              "      flex-wrap:wrap;\n",
              "      gap: 12px;\n",
              "    }\n",
              "\n",
              "    .colab-df-convert {\n",
              "      background-color: #E8F0FE;\n",
              "      border: none;\n",
              "      border-radius: 50%;\n",
              "      cursor: pointer;\n",
              "      display: none;\n",
              "      fill: #1967D2;\n",
              "      height: 32px;\n",
              "      padding: 0 0 0 0;\n",
              "      width: 32px;\n",
              "    }\n",
              "\n",
              "    .colab-df-convert:hover {\n",
              "      background-color: #E2EBFA;\n",
              "      box-shadow: 0px 1px 2px rgba(60, 64, 67, 0.3), 0px 1px 3px 1px rgba(60, 64, 67, 0.15);\n",
              "      fill: #174EA6;\n",
              "    }\n",
              "\n",
              "    [theme=dark] .colab-df-convert {\n",
              "      background-color: #3B4455;\n",
              "      fill: #D2E3FC;\n",
              "    }\n",
              "\n",
              "    [theme=dark] .colab-df-convert:hover {\n",
              "      background-color: #434B5C;\n",
              "      box-shadow: 0px 1px 3px 1px rgba(0, 0, 0, 0.15);\n",
              "      filter: drop-shadow(0px 1px 2px rgba(0, 0, 0, 0.3));\n",
              "      fill: #FFFFFF;\n",
              "    }\n",
              "  </style>\n",
              "\n",
              "      <script>\n",
              "        const buttonEl =\n",
              "          document.querySelector('#df-e7cf97d9-4868-4c6f-abdf-24ab4bd6b860 button.colab-df-convert');\n",
              "        buttonEl.style.display =\n",
              "          google.colab.kernel.accessAllowed ? 'block' : 'none';\n",
              "\n",
              "        async function convertToInteractive(key) {\n",
              "          const element = document.querySelector('#df-e7cf97d9-4868-4c6f-abdf-24ab4bd6b860');\n",
              "          const dataTable =\n",
              "            await google.colab.kernel.invokeFunction('convertToInteractive',\n",
              "                                                     [key], {});\n",
              "          if (!dataTable) return;\n",
              "\n",
              "          const docLinkHtml = 'Like what you see? Visit the ' +\n",
              "            '<a target=\"_blank\" href=https://colab.research.google.com/notebooks/data_table.ipynb>data table notebook</a>'\n",
              "            + ' to learn more about interactive tables.';\n",
              "          element.innerHTML = '';\n",
              "          dataTable['output_type'] = 'display_data';\n",
              "          await google.colab.output.renderOutput(dataTable, element);\n",
              "          const docLink = document.createElement('div');\n",
              "          docLink.innerHTML = docLinkHtml;\n",
              "          element.appendChild(docLink);\n",
              "        }\n",
              "      </script>\n",
              "    </div>\n",
              "  </div>\n",
              "  "
            ]
          },
          "metadata": {},
          "execution_count": 58
        }
      ]
    },
    {
      "cell_type": "code",
      "source": [
        "#create a list of labels for the pie chart\n",
        "labels = recipient_df[\"rtype\"]\n",
        "\n",
        "#create a list of values for the pie chart\n",
        "values = recipient_df [\"count\"]\n",
        "\n",
        "#plot the pie chart\n",
        "plt.pie(values, labels=labels, autopct= \"%1.1f%%\")\n",
        "\n",
        "plt.title(\"Distribution of Email Recipient Types\")\n",
        "plt.show()\n"
      ],
      "metadata": {
        "colab": {
          "base_uri": "https://localhost:8080/",
          "height": 428
        },
        "id": "hZnb24-6T9kd",
        "outputId": "8cafa19b-2fc4-4787-88c3-8e515776ed6e"
      },
      "execution_count": 60,
      "outputs": [
        {
          "output_type": "display_data",
          "data": {
            "text/plain": [
              "<Figure size 640x480 with 1 Axes>"
            ],
            "image/png": "[encoded data removed]"
          },
          "metadata": {}
        }
      ]
    },
    {
      "cell_type": "markdown",
      "source": [
        "##**Analysis for Email Distribution Pie Chart**"
      ],
      "metadata": {
        "id": "qwEyveG_3Y6I"
      }
    },
    {
      "cell_type": "markdown",
      "source": [
        "The pie chart shows that the 75.4% is to which means that the person who received the email normally (TO). The 12.3% shows that people who have received a carbon copy (CC) of the emails and lastly another 12.3% shows that some people have received the emails by a blind carbon copy (BCC)."
      ],
      "metadata": {
        "id": "op4nbXfj3Yto"
      }
    }
  ],
  "metadata": {
    "colab": {
      "name": "download_enron_data.ipynb",
      "provenance": [],
      "include_colab_link": true
    },
    "kernelspec": {
      "display_name": "Python 3",
      "name": "python3"
    }
  },
  "nbformat": 4,
  "nbformat_minor": 0
}